{
 "cells": [
  {
   "cell_type": "code",
   "execution_count": 8,
   "id": "694fc4a6",
   "metadata": {},
   "outputs": [],
   "source": [
    "from selenium_driver_updater import DriverUpdater\n",
    "from selenium import webdriver\n",
    "from selenium.webdriver.common.by import By\n",
    "from selenium.webdriver.chrome.service import Service\n",
    "from selenium.webdriver.support.ui import WebDriverWait\n",
    "from selenium.webdriver.support import expected_conditions\n",
    "from selenium.common.exceptions import TimeoutException\n",
    "import os\n",
    "import time"
   ]
  },
  {
   "cell_type": "code",
   "execution_count": 18,
   "id": "12cf86be",
   "metadata": {},
   "outputs": [
    {
     "name": "stdout",
     "output_type": "stream",
     "text": [
      "C:\\Users\\neils\\PycharmProjects\\paycomCrawler\\chrome_user_data\n"
     ]
    }
   ],
   "source": [
    "options = webdriver.ChromeOptions()\n",
    "print(os.path.abspath(os.path.join(os.path.abspath(''), 'chrome_user_data')))\n",
    "options.add_argument(\"user-data-dir=\" + os.path.abspath(os.path.join(os.path.abspath(''), 'chrome_user_data')))"
   ]
  },
  {
   "cell_type": "code",
   "execution_count": 19,
   "id": "3135a7c5",
   "metadata": {
    "scrolled": true
   },
   "outputs": [],
   "source": [
    "driver = webdriver.Chrome(service=Service(os.path.abspath('./chromedriver.exe')), options=options)"
   ]
  },
  {
   "cell_type": "code",
   "execution_count": 22,
   "id": "88807d6e",
   "metadata": {},
   "outputs": [],
   "source": [
    "driver.get(\"https://www.paycomonline.net/v4/cl/web.php/employee/changes\")"
   ]
  },
  {
   "cell_type": "code",
   "execution_count": 47,
   "id": "5c546bba",
   "metadata": {},
   "outputs": [
    {
     "name": "stdout",
     "output_type": "stream",
     "text": [
      "['Primary (Cell)', '+1 (847) 858-2294']\n",
      "['Work', 'patrick.an@emp.btisolutions.com', 'Personal', 'patrickan101@gmail.com']\n",
      "['Primary', 'SL', 'Lee, Sangjun', '(0146)', 'Secondary', 'KK', 'Kang, Kiwook', '(0055)', 'Tertiary', 'SL', 'Lee, Sang Hun', '(0001)', 'Time Off', 'SL', 'Lee, Sangjun', '(0146)']\n",
      "{'name': 'An, Patrick', 'position': 'Network Engineer- Telematics Validation', 'Phone Number - Primary (Cell)': '+1 (847) 858-2294', 'Email - Work': 'patrick.an@emp.btisolutions.com', 'Email - Personal': 'patrickan101@gmail.com', 'Manager - Primary': 'Lee, Sangjun', 'Manager - Secondary': 'Kang, Kiwook', 'Manager - Tertiary': 'Lee, Sang Hun', 'Manager - Time Off': 'Lee, Sangjun', 'Primary Org': 'Mobis [54]', 'Manager': 'Sangjun Lee [EM03]', 'Division': 'Division-S [1-2]', 'Terminal': 'TG3', 'Schedule Group': 'N/A', 'Badge Number': 'N/A', 'Pay Frequency': 'Bi-Weekly', 'Most Recent Check': '01/20/2023', 'ESS Access Profile': 'Use Default Profile', 'Last 4 Digits of SSN': '[XXX-XX-4797]', 'Works-In State': 'Michigan', 'Lives-In State': 'Michigan', 'Exempt Status': 'Non-Exempt', 'Last Position Change Date': '12/27/2022', 'Pending Time-Off Requests': 'N/A', 'On-Leave Start': 'N/A', 'On-Leave End': 'N/A', '401(k) Eligibility Date': 'N/A', 'Outstanding Checklists': '1', 'Document Group': 'All Employees [ALL]', 'Date Added to Paycom': '07/21/2022'}\n",
      "['Primary (Cell)', '+1 (909) 963-8128']\n",
      "['Work', 'jaeho.han@emp.btisolutions.com', 'Personal', 'gkswogh7220@gmail.com']\n",
      "['Primary', 'SL', 'Lee, Sangjun', '(0146)', 'Secondary', 'JJ', 'Jung, Jae Ho', '(0407)', 'Tertiary', 'SL', 'Lee, Sang Hun', '(0001)', 'Time Off', 'SL', 'Lee, Sangjun', '(0146)']\n",
      "{'name': 'Han, Jaeho', 'position': 'Network Engineer- Telematics Validation', 'Phone Number - Primary (Cell)': '+1 (909) 963-8128', 'Email - Work': 'jaeho.han@emp.btisolutions.com', 'Email - Personal': 'gkswogh7220@gmail.com', 'Manager - Primary': 'Lee, Sangjun', 'Manager - Secondary': 'Jung, Jae Ho', 'Manager - Tertiary': 'Lee, Sang Hun', 'Manager - Time Off': 'Lee, Sangjun', 'Primary Org': 'HAEA [61]', 'Manager': 'Sangjun Lee [EM03]', 'Division': 'Division-S [1-2]', 'Terminal': 'TG3', 'Schedule Group': 'N/A', 'Badge Number': 'N/A', 'Pay Frequency': 'Bi-Weekly', 'Most Recent Check': '01/20/2023', 'ESS Access Profile': 'Use Default Profile', 'Last 4 Digits of SSN': '[XXX-XX-1934]', 'Works-In State': 'California', 'Lives-In State': 'California', 'Exempt Status': 'Non-Exempt', 'Last Position Change Date': '12/27/2022', 'Pending Time-Off Requests': 'N/A', 'On-Leave Start': 'N/A', 'On-Leave End': 'N/A', '401(k) Eligibility Date': 'N/A', 'Outstanding Checklists': '2', 'Document Group': 'All Employees [ALL]', 'Date Added to Paycom': '01/19/2022'}\n",
      "['Primary (Cell)', '+1 (864) 986-1633']\n"
     ]
    },
    {
     "ename": "KeyboardInterrupt",
     "evalue": "",
     "output_type": "error",
     "traceback": [
      "\u001b[1;31m---------------------------------------------------------------------------\u001b[0m",
      "\u001b[1;31mKeyboardInterrupt\u001b[0m                         Traceback (most recent call last)",
      "Cell \u001b[1;32mIn[47], line 18\u001b[0m\n\u001b[0;32m     16\u001b[0m \u001b[38;5;28;01mfor\u001b[39;00m index_no \u001b[38;5;129;01min\u001b[39;00m \u001b[38;5;28mrange\u001b[39m(\u001b[38;5;241m3\u001b[39m):\n\u001b[0;32m     17\u001b[0m     phones_emails_managers[index_no]\u001b[38;5;241m.\u001b[39mclick()\n\u001b[1;32m---> 18\u001b[0m     \u001b[43mtime\u001b[49m\u001b[38;5;241;43m.\u001b[39;49m\u001b[43msleep\u001b[49m\u001b[43m(\u001b[49m\u001b[38;5;241;43m0.5\u001b[39;49m\u001b[43m)\u001b[49m\n\u001b[0;32m     19\u001b[0m     lines \u001b[38;5;241m=\u001b[39m driver\u001b[38;5;241m.\u001b[39mfind_element(By\u001b[38;5;241m.\u001b[39mCLASS_NAME, \u001b[38;5;124m'\u001b[39m\u001b[38;5;124mcss-djbxmn\u001b[39m\u001b[38;5;124m'\u001b[39m)\u001b[38;5;241m.\u001b[39mtext\u001b[38;5;241m.\u001b[39msplitlines()\n\u001b[0;32m     20\u001b[0m     key, key_prefix, value \u001b[38;5;241m=\u001b[39m \u001b[38;5;124m\"\u001b[39m\u001b[38;5;124m\"\u001b[39m, \u001b[38;5;124m\"\u001b[39m\u001b[38;5;124m\"\u001b[39m, \u001b[38;5;124m\"\u001b[39m\u001b[38;5;124m\"\u001b[39m\n",
      "\u001b[1;31mKeyboardInterrupt\u001b[0m: "
     ]
    }
   ],
   "source": [
    "users = driver.find_elements(By.CLASS_NAME, 'css-vkr5jj')\n",
    "for idx in range(len(users) - 1):\n",
    "    \n",
    "    result_dict = {}\n",
    "    \n",
    "    user = users[idx]\n",
    "    user.find_element(By.TAG_NAME, 'button').click()\n",
    "    time.sleep(2)\n",
    "    result_dict['name'] = driver.find_element(By.CLASS_NAME, 'css-ewvkoh').find_element(By.CLASS_NAME, 'jssEEFormsRewrite17').text\n",
    "    result_dict['position'] = driver.find_element(By.CLASS_NAME, 'css-eix830').text\n",
    "    \n",
    "    phones_emails_managers = driver.find_elements(By.CLASS_NAME, 'css-1uf4nsy')\n",
    "    for index_no in range(3):\n",
    "        phones_emails_managers[index_no].click()\n",
    "        time.sleep(0.5)\n",
    "        lines = driver.find_element(By.CLASS_NAME, 'css-djbxmn').text.splitlines()\n",
    "        key, key_prefix, value = \"\", \"\", \"\"\n",
    "        if index_no == 0:\n",
    "            key_prefix = \"Phone Number\"\n",
    "        if index_no == 1:\n",
    "            key_prefix = \"Email\"\n",
    "        if index_no == 2:\n",
    "            key_prefix = \"Manager\"\n",
    "        cnt = 0\n",
    "        for each in lines:\n",
    "            if index_no < 2:\n",
    "                if cnt%2 == 0:\n",
    "                    key = key_prefix + \" - \" + each\n",
    "                if cnt%2 == 1:\n",
    "                    value = each\n",
    "                    result_dict[key] = value\n",
    "            else:\n",
    "                if cnt%4 == 0:\n",
    "                    key = key_prefix + \" - \" + each\n",
    "                if cnt%4 == 2:\n",
    "                    value = each\n",
    "                    result_dict[key] = value\n",
    "\n",
    "            cnt = cnt + 1\n",
    "    employment_table = driver.find_element(By.CLASS_NAME, 'css-18hyvxw')\n",
    "    contents = employment_table.find_elements(By.CLASS_NAME, 'css-j486mh')\n",
    "    for each in contents:\n",
    "        str_lines = each.text.splitlines()\n",
    "        result_dict[str_lines[0]] = str_lines[1]\n",
    "            \n",
    "        \n",
    "    print(result_dict)\n",
    "    \n",
    "\n",
    "    users = driver.find_elements(By.CLASS_NAME, 'css-vkr5jj')"
   ]
  },
  {
   "cell_type": "code",
   "execution_count": null,
   "id": "176311bf",
   "metadata": {},
   "outputs": [],
   "source": []
  }
 ],
 "metadata": {
  "kernelspec": {
   "display_name": "Python 3 (ipykernel)",
   "language": "python",
   "name": "python3"
  },
  "language_info": {
   "codemirror_mode": {
    "name": "ipython",
    "version": 3
   },
   "file_extension": ".py",
   "mimetype": "text/x-python",
   "name": "python",
   "nbconvert_exporter": "python",
   "pygments_lexer": "ipython3",
   "version": "3.10.2"
  }
 },
 "nbformat": 4,
 "nbformat_minor": 5
}
