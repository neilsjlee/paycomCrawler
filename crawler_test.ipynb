{
 "cells": [
  {
   "cell_type": "code",
   "execution_count": 1,
   "id": "7a5112c9-e405-4a82-b1d6-a87e5c20fbe8",
   "metadata": {
    "tags": []
   },
   "outputs": [
    {
     "name": "stdout",
     "output_type": "stream",
     "text": [
      "temp test\n"
     ]
    },
    {
     "name": "stderr",
     "output_type": "stream",
     "text": [
      "2023-04-26 07:41:40,119 WARNING Your selenium-driver-updater library is out of date,please update it via \"pip install selenium-driver-updater --upgrade\" current_version: 5.1.7 latest_version: 5.1.8  \n",
      "2023-04-26 07:41:41,829 INFO Current version of chromedriver: 112.0.5615.49 \n",
      "2023-04-26 07:41:42,132 INFO Latest version of chromedriver: 112.0.5615.49 \n",
      "2023-04-26 07:41:42,133 INFO Your existing chromedriver is up to date. current_version: 112.0.5615.49 latest_version: 112.0.5615.49 \n"
     ]
    },
    {
     "name": "stdout",
     "output_type": "stream",
     "text": [
      "Chrome User Data Path: C:\\Users\\HIS96347\\PycharmProjects\\paycomCrawler\\chrome_user_data\n",
      "Client - Paycom Username:\n"
     ]
    },
    {
     "name": "stdin",
     "output_type": "stream",
     "text": [
      " sangjunlee\n"
     ]
    },
    {
     "name": "stdout",
     "output_type": "stream",
     "text": [
      "Client - Paycom Password\n"
     ]
    },
    {
     "name": "stdin",
     "output_type": "stream",
     "text": [
      " payNeh@85246\n"
     ]
    },
    {
     "name": "stdout",
     "output_type": "stream",
     "text": [
      "logged in\n",
      "LOGIN SUCCESSFUL. SESSION IS READY.\n"
     ]
    }
   ],
   "source": [
    "from driver_manager import DriverManager\n",
    "from employee_data_crawler import EmployeeDataCrawler\n",
    "from time_off_calendar_crawler import TimeOffCalendarCrawler\n",
    "from uploader import Uploader\n",
    "from selenium import webdriver\n",
    "from selenium.webdriver.support.ui import WebDriverWait\n",
    "from selenium.webdriver.common.by import By\n",
    "from selenium.webdriver.support import expected_conditions\n",
    "from selenium.common.exceptions import TimeoutException\n",
    "import os\n",
    "import sys\n",
    "import util\n",
    "\n",
    "def username_password_input() -> (str, str):\n",
    "    print('Client - Paycom Username:')\n",
    "    username = input()\n",
    "    print('Client - Paycom Password')\n",
    "    password = input()\n",
    "    return username, password\n",
    "\n",
    "def terminate():\n",
    "    driver.quit()\n",
    "\n",
    "def get_session_ready() -> bool:\n",
    "    username, password = username_password_input()\n",
    "    login_result = driver_manager.login(username, password)\n",
    "    if login_result == True:\n",
    "        driver = driver_manager.driver_hand_over()\n",
    "        return True\n",
    "    else:\n",
    "        return False\n",
    "\n",
    "driver_manager = DriverManager()\n",
    "driver = None\n",
    "base_dir = ''\n",
    "if getattr(sys, 'frozen', False):\n",
    "    base_dir = os.path.dirname(sys.executable)\n",
    "else:\n",
    "    base_dir = os.path.abspath('')\n",
    "\n",
    "is_session_ready = get_session_ready()\n",
    "if is_session_ready == True:\n",
    "    print(\"LOGIN SUCCESSFUL. SESSION IS READY.\")\n",
    "    driver = driver_manager.driver_hand_over()\n",
    "else:\n",
    "    print(\"ERROR. LOGIN FAILED. SESSION IS NOT READY.\")\n",
    "    exit()\n",
    "\n",
    "\n"
   ]
  },
  {
   "cell_type": "code",
   "execution_count": 20,
   "id": "6b6ea59e-a4fe-4081-87a9-be721be5b695",
   "metadata": {
    "tags": []
   },
   "outputs": [
    {
     "name": "stdout",
     "output_type": "stream",
     "text": [
      "'Make Employee Changes' page loaded\n"
     ]
    }
   ],
   "source": [
    "driver.get(\"https://www.paycomonline.net/v4/cl/web.php/employee/changes\")\n",
    "delay = 10\n",
    "WebDriverWait(driver, delay).until(\n",
    "    expected_conditions.presence_of_element_located((By.CLASS_NAME, 'css-vkr5jj')))\n",
    "print(\"'Make Employee Changes' page loaded\")\n",
    "\n",
    "result = []\n"
   ]
  },
  {
   "cell_type": "code",
   "execution_count": 25,
   "id": "09071a6c-0659-4282-8b2f-b59614850d71",
   "metadata": {
    "tags": []
   },
   "outputs": [
    {
     "name": "stdout",
     "output_type": "stream",
     "text": [
      "(1227)\n",
      "(0751)\n",
      "(1508)\n",
      "(0764)\n",
      "(0841)\n",
      "(0623)\n",
      "(0731)\n",
      "(1149)\n",
      "(1038)\n",
      "(1663)\n",
      "(1424)\n",
      "(0212)\n",
      "(1088)\n",
      "(1083)\n",
      "(1354)\n",
      "(0605)\n",
      "(1629)\n",
      "(1691)\n",
      "(1665)\n",
      "(1346)\n",
      "(1646)\n",
      "(1582)\n",
      "(0722)\n",
      "(1631)\n",
      "(0972)\n",
      "(1689)\n",
      "(0497)\n",
      "(0723)\n",
      "(1656)\n",
      "(1676)\n",
      "(1617)\n",
      "(1405)\n",
      "(1222)\n",
      "(1139)\n",
      "(1403)\n",
      "(1150)\n",
      "(1594)\n",
      "(1690)\n",
      "(1687)\n",
      "(1456)\n",
      "(1692)\n",
      "(1174)\n",
      "(1700)\n"
     ]
    },
    {
     "ename": "StaleElementReferenceException",
     "evalue": "Message: stale element reference: element is not attached to the page document\n  (Session info: chrome=112.0.5615.138)\nStacktrace:\nBacktrace:\n\tGetHandleVerifier [0x00E4DCE3+50899]\n\t(No symbol) [0x00DDE111]\n\t(No symbol) [0x00CE5588]\n\t(No symbol) [0x00CE7EDB]\n\t(No symbol) [0x00CE7DB0]\n\t(No symbol) [0x00CE8030]\n\t(No symbol) [0x00D10552]\n\t(No symbol) [0x00D10AFB]\n\t(No symbol) [0x00D08F71]\n\t(No symbol) [0x00D2B944]\n\t(No symbol) [0x00D08EC6]\n\t(No symbol) [0x00D2BC54]\n\t(No symbol) [0x00D3E01C]\n\t(No symbol) [0x00D2B6F6]\n\t(No symbol) [0x00D07708]\n\t(No symbol) [0x00D0886D]\n\tGetHandleVerifier [0x010B3EAE+2566302]\n\tGetHandleVerifier [0x010E92B1+2784417]\n\tGetHandleVerifier [0x010E327C+2759788]\n\tGetHandleVerifier [0x00EE5740+672048]\n\t(No symbol) [0x00DE8872]\n\t(No symbol) [0x00DE41C8]\n\t(No symbol) [0x00DE42AB]\n\t(No symbol) [0x00DD71B7]\n\tBaseThreadInitThunk [0x775F00F9+25]\n\tRtlGetAppContainerNamedObjectPath [0x77A97BBE+286]\n\tRtlGetAppContainerNamedObjectPath [0x77A97B8E+238]\n",
     "output_type": "error",
     "traceback": [
      "\u001b[1;31m---------------------------------------------------------------------------\u001b[0m",
      "\u001b[1;31mStaleElementReferenceException\u001b[0m            Traceback (most recent call last)",
      "Cell \u001b[1;32mIn[25], line 25\u001b[0m\n\u001b[0;32m     22\u001b[0m result_dict \u001b[38;5;241m=\u001b[39m {}\n\u001b[0;32m     24\u001b[0m \u001b[38;5;66;03m# one_row_height = each_employee.size['height']\u001b[39;00m\n\u001b[1;32m---> 25\u001b[0m employee_id \u001b[38;5;241m=\u001b[39m \u001b[43meach_employee\u001b[49m\u001b[38;5;241;43m.\u001b[39;49m\u001b[43mfind_element\u001b[49m\u001b[43m(\u001b[49m\u001b[43mBy\u001b[49m\u001b[38;5;241;43m.\u001b[39;49m\u001b[43mCSS_SELECTOR\u001b[49m\u001b[43m,\u001b[49m\u001b[43m \u001b[49m\u001b[38;5;124;43m'\u001b[39;49m\u001b[38;5;124;43mspan.css-20f01v\u001b[39;49m\u001b[38;5;124;43m'\u001b[39;49m\u001b[43m)\u001b[49m\u001b[38;5;241m.\u001b[39mtext\n\u001b[0;32m     26\u001b[0m \u001b[38;5;28;01mif\u001b[39;00m employee_id \u001b[38;5;129;01mnot\u001b[39;00m \u001b[38;5;129;01min\u001b[39;00m employee_ids:\n\u001b[0;32m     27\u001b[0m     \u001b[38;5;28mprint\u001b[39m(employee_id)\n",
      "File \u001b[1;32m~\\PycharmProjects\\paycomCrawler\\venv\\lib\\site-packages\\selenium\\webdriver\\remote\\webelement.py:433\u001b[0m, in \u001b[0;36mWebElement.find_element\u001b[1;34m(self, by, value)\u001b[0m\n\u001b[0;32m    430\u001b[0m     by \u001b[38;5;241m=\u001b[39m By\u001b[38;5;241m.\u001b[39mCSS_SELECTOR\n\u001b[0;32m    431\u001b[0m     value \u001b[38;5;241m=\u001b[39m \u001b[38;5;124m'\u001b[39m\u001b[38;5;124m[name=\u001b[39m\u001b[38;5;124m\"\u001b[39m\u001b[38;5;132;01m%s\u001b[39;00m\u001b[38;5;124m\"\u001b[39m\u001b[38;5;124m]\u001b[39m\u001b[38;5;124m'\u001b[39m \u001b[38;5;241m%\u001b[39m value\n\u001b[1;32m--> 433\u001b[0m \u001b[38;5;28;01mreturn\u001b[39;00m \u001b[38;5;28;43mself\u001b[39;49m\u001b[38;5;241;43m.\u001b[39;49m\u001b[43m_execute\u001b[49m\u001b[43m(\u001b[49m\u001b[43mCommand\u001b[49m\u001b[38;5;241;43m.\u001b[39;49m\u001b[43mFIND_CHILD_ELEMENT\u001b[49m\u001b[43m,\u001b[49m\u001b[43m \u001b[49m\u001b[43m{\u001b[49m\u001b[38;5;124;43m\"\u001b[39;49m\u001b[38;5;124;43musing\u001b[39;49m\u001b[38;5;124;43m\"\u001b[39;49m\u001b[43m:\u001b[49m\u001b[43m \u001b[49m\u001b[43mby\u001b[49m\u001b[43m,\u001b[49m\u001b[43m \u001b[49m\u001b[38;5;124;43m\"\u001b[39;49m\u001b[38;5;124;43mvalue\u001b[39;49m\u001b[38;5;124;43m\"\u001b[39;49m\u001b[43m:\u001b[49m\u001b[43m \u001b[49m\u001b[43mvalue\u001b[49m\u001b[43m}\u001b[49m\u001b[43m)\u001b[49m[\u001b[38;5;124m\"\u001b[39m\u001b[38;5;124mvalue\u001b[39m\u001b[38;5;124m\"\u001b[39m]\n",
      "File \u001b[1;32m~\\PycharmProjects\\paycomCrawler\\venv\\lib\\site-packages\\selenium\\webdriver\\remote\\webelement.py:410\u001b[0m, in \u001b[0;36mWebElement._execute\u001b[1;34m(self, command, params)\u001b[0m\n\u001b[0;32m    408\u001b[0m     params \u001b[38;5;241m=\u001b[39m {}\n\u001b[0;32m    409\u001b[0m params[\u001b[38;5;124m\"\u001b[39m\u001b[38;5;124mid\u001b[39m\u001b[38;5;124m\"\u001b[39m] \u001b[38;5;241m=\u001b[39m \u001b[38;5;28mself\u001b[39m\u001b[38;5;241m.\u001b[39m_id\n\u001b[1;32m--> 410\u001b[0m \u001b[38;5;28;01mreturn\u001b[39;00m \u001b[38;5;28;43mself\u001b[39;49m\u001b[38;5;241;43m.\u001b[39;49m\u001b[43m_parent\u001b[49m\u001b[38;5;241;43m.\u001b[39;49m\u001b[43mexecute\u001b[49m\u001b[43m(\u001b[49m\u001b[43mcommand\u001b[49m\u001b[43m,\u001b[49m\u001b[43m \u001b[49m\u001b[43mparams\u001b[49m\u001b[43m)\u001b[49m\n",
      "File \u001b[1;32m~\\PycharmProjects\\paycomCrawler\\venv\\lib\\site-packages\\selenium\\webdriver\\remote\\webdriver.py:444\u001b[0m, in \u001b[0;36mWebDriver.execute\u001b[1;34m(self, driver_command, params)\u001b[0m\n\u001b[0;32m    442\u001b[0m response \u001b[38;5;241m=\u001b[39m \u001b[38;5;28mself\u001b[39m\u001b[38;5;241m.\u001b[39mcommand_executor\u001b[38;5;241m.\u001b[39mexecute(driver_command, params)\n\u001b[0;32m    443\u001b[0m \u001b[38;5;28;01mif\u001b[39;00m response:\n\u001b[1;32m--> 444\u001b[0m     \u001b[38;5;28;43mself\u001b[39;49m\u001b[38;5;241;43m.\u001b[39;49m\u001b[43merror_handler\u001b[49m\u001b[38;5;241;43m.\u001b[39;49m\u001b[43mcheck_response\u001b[49m\u001b[43m(\u001b[49m\u001b[43mresponse\u001b[49m\u001b[43m)\u001b[49m\n\u001b[0;32m    445\u001b[0m     response[\u001b[38;5;124m\"\u001b[39m\u001b[38;5;124mvalue\u001b[39m\u001b[38;5;124m\"\u001b[39m] \u001b[38;5;241m=\u001b[39m \u001b[38;5;28mself\u001b[39m\u001b[38;5;241m.\u001b[39m_unwrap_value(response\u001b[38;5;241m.\u001b[39mget(\u001b[38;5;124m\"\u001b[39m\u001b[38;5;124mvalue\u001b[39m\u001b[38;5;124m\"\u001b[39m, \u001b[38;5;28;01mNone\u001b[39;00m))\n\u001b[0;32m    446\u001b[0m     \u001b[38;5;28;01mreturn\u001b[39;00m response\n",
      "File \u001b[1;32m~\\PycharmProjects\\paycomCrawler\\venv\\lib\\site-packages\\selenium\\webdriver\\remote\\errorhandler.py:249\u001b[0m, in \u001b[0;36mErrorHandler.check_response\u001b[1;34m(self, response)\u001b[0m\n\u001b[0;32m    247\u001b[0m         alert_text \u001b[38;5;241m=\u001b[39m value[\u001b[38;5;124m\"\u001b[39m\u001b[38;5;124malert\u001b[39m\u001b[38;5;124m\"\u001b[39m]\u001b[38;5;241m.\u001b[39mget(\u001b[38;5;124m\"\u001b[39m\u001b[38;5;124mtext\u001b[39m\u001b[38;5;124m\"\u001b[39m)\n\u001b[0;32m    248\u001b[0m     \u001b[38;5;28;01mraise\u001b[39;00m exception_class(message, screen, stacktrace, alert_text)  \u001b[38;5;66;03m# type: ignore[call-arg]  # mypy is not smart enough here\u001b[39;00m\n\u001b[1;32m--> 249\u001b[0m \u001b[38;5;28;01mraise\u001b[39;00m exception_class(message, screen, stacktrace)\n",
      "\u001b[1;31mStaleElementReferenceException\u001b[0m: Message: stale element reference: element is not attached to the page document\n  (Session info: chrome=112.0.5615.138)\nStacktrace:\nBacktrace:\n\tGetHandleVerifier [0x00E4DCE3+50899]\n\t(No symbol) [0x00DDE111]\n\t(No symbol) [0x00CE5588]\n\t(No symbol) [0x00CE7EDB]\n\t(No symbol) [0x00CE7DB0]\n\t(No symbol) [0x00CE8030]\n\t(No symbol) [0x00D10552]\n\t(No symbol) [0x00D10AFB]\n\t(No symbol) [0x00D08F71]\n\t(No symbol) [0x00D2B944]\n\t(No symbol) [0x00D08EC6]\n\t(No symbol) [0x00D2BC54]\n\t(No symbol) [0x00D3E01C]\n\t(No symbol) [0x00D2B6F6]\n\t(No symbol) [0x00D07708]\n\t(No symbol) [0x00D0886D]\n\tGetHandleVerifier [0x010B3EAE+2566302]\n\tGetHandleVerifier [0x010E92B1+2784417]\n\tGetHandleVerifier [0x010E327C+2759788]\n\tGetHandleVerifier [0x00EE5740+672048]\n\t(No symbol) [0x00DE8872]\n\t(No symbol) [0x00DE41C8]\n\t(No symbol) [0x00DE42AB]\n\t(No symbol) [0x00DD71B7]\n\tBaseThreadInitThunk [0x775F00F9+25]\n\tRtlGetAppContainerNamedObjectPath [0x77A97BBE+286]\n\tRtlGetAppContainerNamedObjectPath [0x77A97B8E+238]\n"
     ]
    }
   ],
   "source": [
    "import time\n",
    "\n",
    "\n",
    "result = []\n",
    "\n",
    "\n",
    "users = driver.find_elements(By.CLASS_NAME, 'css-vkr5jj')\n",
    "\n",
    "employee_ids = []\n",
    "\n",
    "driver.execute_script(\"return document.body.scrollHeight\")\n",
    "\n",
    "before_page_y_offset = driver.execute_script(\"return window.pageYOffset;\")\n",
    "not_hit_bottom = 1\n",
    "\n",
    "while not_hit_bottom:\n",
    "    employees = driver.find_elements(By.CSS_SELECTOR, 'div.css-gwrvcm')\n",
    "    one_row_height = 81\n",
    "\n",
    "    for each_employee in employees:\n",
    "        \n",
    "        result_dict = {}\n",
    "        \n",
    "        # one_row_height = each_employee.size['height']\n",
    "        employee_id = each_employee.find_element(By.CSS_SELECTOR, 'span.css-20f01v').text\n",
    "        if employee_id not in employee_ids:\n",
    "            print(employee_id)\n",
    "            employee_ids.append(employee_id)\n",
    "            \n",
    "            each_employee.find_element(By.CSS_SELECTOR, 'button.css-kb77mr').click()\n",
    "            driver.implicitly_wait(10)\n",
    "            \n",
    "            ###\n",
    "            temp_name = each_employee.find_element(By.CLASS_NAME, 'css-ewvkoh').find_element(By.CLASS_NAME, 'jssEEFormsRewrite17').text\n",
    "            driver.implicitly_wait(10)\n",
    "            \n",
    "            result_dict['name'] = util.name_formatter(temp_name)\n",
    "            \n",
    "            result_dict['position'] = driver.find_element(By.CLASS_NAME, 'css-eix830').text\n",
    "\n",
    "            time.sleep(5)\n",
    "            phones_emails_managers = driver.find_elements(By.CSS_SELECTOR, 'div.css-1uf4nsy')\n",
    "            driver.implicitly_wait(5)\n",
    "            \n",
    "            phones_emails_managers[0].find_elements(By.CSS_SELECTOR, 'button')\n",
    "            driver.implicitly_wait(5)\n",
    "            \n",
    "            for index_no in range(3):\n",
    "                phones_emails_managers[index_no].click()\n",
    "                driver.implicitly_wait(10)\n",
    "                \n",
    "                lines = driver.find_element(By.CLASS_NAME, 'css-djbxmn').text.splitlines()\n",
    "                driver.implicitly_wait(5)\n",
    "                \n",
    "                key, key_prefix, value = \"\", \"\", \"\"\n",
    "                if index_no == 0:\n",
    "                    key_prefix = \"Phone Number\"\n",
    "                if index_no == 1:\n",
    "                    key_prefix = \"Email\"\n",
    "                if index_no == 2:\n",
    "                    key_prefix = \"Manager\"\n",
    "                cnt = 0\n",
    "                for each in lines:\n",
    "                    if index_no < 2:\n",
    "                        if cnt % 2 == 0:\n",
    "                            key = key_prefix + \" - \" + each\n",
    "                        if cnt % 2 == 1:\n",
    "                            value = each\n",
    "                            result_dict[key] = value\n",
    "                    else:\n",
    "                        if cnt % 4 == 0:\n",
    "                            key = key_prefix + \" - \" + each\n",
    "                        if cnt % 4 == 2:\n",
    "                            value = each\n",
    "                            result_dict[key] = util.name_formatter(value)\n",
    "                    cnt = cnt + 1\n",
    "            left_tab_components = driver.find_element(By.CLASS_NAME, 'css-1kf24an').find_elements(By.CLASS_NAME, 'css-j486mh')\n",
    "            for each in left_tab_components:\n",
    "                lines = each.text.splitlines()\n",
    "                key, value = \"\", \"\"\n",
    "                cnt = 0\n",
    "                for line in lines:\n",
    "                    if cnt%4 == 0:\n",
    "                        key = line\n",
    "                    if cnt%4 == 1:\n",
    "                        value = line\n",
    "                    cnt = cnt + 1\n",
    "                result_dict[key] = util.name_formatter(value)\n",
    "\n",
    "            employment_table = driver.find_element(By.CLASS_NAME, 'css-18hyvxw')\n",
    "            contents = employment_table.find_elements(By.CLASS_NAME, 'css-j486mh')\n",
    "            for each in contents:\n",
    "                str_lines = each.text.splitlines()\n",
    "                result_dict[str_lines[0]] = str_lines[1]\n",
    "\n",
    "            result.append(result_dict)\n",
    "            \n",
    "            ###\n",
    "            \n",
    "    driver.execute_script(\"window.scrollBy(0, \" + str(one_row_height * 10) + \")\",\"\")\n",
    "    current_page_y_offset = driver.execute_script(\"return window.pageYOffset;\")\n",
    "    if current_page_y_offset == before_page_y_offset:\n",
    "        not_hit_bottom = 0\n",
    "    else:\n",
    "        before_page_y_offset = current_page_y_offset"
   ]
  },
  {
   "cell_type": "code",
   "execution_count": null,
   "id": "16770c26-8c3e-4e68-9519-6e8ca5b15570",
   "metadata": {},
   "outputs": [],
   "source": []
  }
 ],
 "metadata": {
  "kernelspec": {
   "display_name": "Python 3 (ipykernel)",
   "language": "python",
   "name": "python3"
  },
  "language_info": {
   "codemirror_mode": {
    "name": "ipython",
    "version": 3
   },
   "file_extension": ".py",
   "mimetype": "text/x-python",
   "name": "python",
   "nbconvert_exporter": "python",
   "pygments_lexer": "ipython3",
   "version": "3.10.5"
  }
 },
 "nbformat": 4,
 "nbformat_minor": 5
}
